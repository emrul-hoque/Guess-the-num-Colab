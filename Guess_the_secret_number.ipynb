{
  "nbformat": 4,
  "nbformat_minor": 0,
  "metadata": {
    "colab": {
      "provenance": [],
      "authorship_tag": "ABX9TyOdKCE8Ik9U/DZY+KTtGp0b",
      "include_colab_link": true
    },
    "kernelspec": {
      "name": "python3",
      "display_name": "Python 3"
    },
    "language_info": {
      "name": "python"
    }
  },
  "cells": [
    {
      "cell_type": "markdown",
      "metadata": {
        "id": "view-in-github",
        "colab_type": "text"
      },
      "source": [
        "<a href=\"https://colab.research.google.com/github/emrul-hoque/Guess-the-num-Colab/blob/master/Guess_the_secret_number.ipynb\" target=\"_parent\"><img src=\"https://colab.research.google.com/assets/colab-badge.svg\" alt=\"Open In Colab\"/></a>"
      ]
    },
    {
      "cell_type": "code",
      "execution_count": 1,
      "metadata": {
        "colab": {
          "base_uri": "https://localhost:8080/"
        },
        "id": "JP4Xjj-4nEgv",
        "outputId": "682b8619-afdf-469a-e04d-ef1455f5d8d9"
      },
      "outputs": [
        {
          "output_type": "stream",
          "name": "stdout",
          "text": [
            "TRY TO GUESS THE SECRET NUMBER\n",
            "\n",
            "\n",
            "Enter your guess:\t9\n",
            "\n",
            "You win! 👍\n"
          ]
        }
      ],
      "source": [
        "print(\"TRY TO GUESS THE SECRET NUMBER\\n\")\n",
        "\n",
        "guess_count = 3\n",
        "\n",
        "while guess_count > 0:\n",
        "  x = int(input(\"\\nEnter your guess:\\t\"))\n",
        "  if x == 9:\n",
        "    print(\"\\nYou win! 👍\")\n",
        "    break\n",
        "  elif guess_count == 1:\n",
        "    print(\"\\nYou lose 🤔\")\n",
        "    break\n",
        "  else:\n",
        "    print(f\"\\nSorry that is not correct. You have {guess_count-1} more attempt(s) left\\n\")\n",
        "\n",
        "  guess_count = guess_count - 1"
      ]
    }
  ]
}